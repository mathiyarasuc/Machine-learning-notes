{
 "cells": [
  {
   "cell_type": "markdown",
   "id": "39329df3-1f99-4b11-9405-5969d52368a7",
   "metadata": {},
   "source": [
    "# Decision Tree & Grid Search Example"
   ]
  },
  {
   "cell_type": "markdown",
   "id": "bd7def2e-0fa1-41d8-b5e5-efb08845fc38",
   "metadata": {},
   "source": [
    "This notebook shows how to tune a simple classifier like a decision tree via GridSearch."
   ]
  },
  {
   "cell_type": "code",
   "execution_count": 1,
   "id": "7f61a90e-a119-4bd0-af21-38604c5b4eec",
   "metadata": {},
   "outputs": [
    {
     "name": "stdout",
     "output_type": "stream",
     "text": [
      "scikit-learn: 1.0\n",
      "mlxtend     : 0.19.0\n",
      "xgboost     : 1.5.0\n",
      "\n"
     ]
    }
   ],
   "source": [
    "%load_ext watermark\n",
    "%watermark -p scikit-learn,mlxtend,xgboost"
   ]
  },
  {
   "cell_type": "markdown",
   "id": "1f0489c2-dd9c-4e71-a78c-e01201762b37",
   "metadata": {},
   "source": [
    "## Dataset"
   ]
  },
  {
   "cell_type": "code",
   "execution_count": 2,
   "id": "271b17ff-5ea4-4161-8b7f-20ba8131d666",
   "metadata": {},
   "outputs": [
    {
     "name": "stdout",
     "output_type": "stream",
     "text": [
      "Train/Valid/Test sizes: 398 80 171\n"
     ]
    }
   ],
   "source": [
    "from sklearn import model_selection\n",
    "from sklearn.model_selection import train_test_split\n",
    "from sklearn import datasets\n",
    "\n",
    "\n",
    "data = datasets.load_breast_cancer()\n",
    "X, y = data.data, data.target\n",
    "\n",
    "X_train, X_test, y_train, y_test = \\\n",
    "    train_test_split(X, y, test_size=0.3, random_state=1, stratify=y)\n",
    "\n",
    "X_train_sub, X_valid, y_train_sub, y_valid = \\\n",
    "    train_test_split(X_train, y_train, test_size=0.2, random_state=1, stratify=y_train)\n",
    "\n",
    "print('Train/Valid/Test sizes:', y_train.shape[0], y_valid.shape[0], y_test.shape[0])"
   ]
  },
  {
   "cell_type": "markdown",
   "id": "0affc454-9f07-48e6-bcee-e6253d968247",
   "metadata": {},
   "source": [
    "## Grid Search"
   ]
  },
  {
   "cell_type": "code",
   "execution_count": 3,
   "id": "e80b4870-e6d2-4f62-91dd-2b53afaac49c",
   "metadata": {},
   "outputs": [
    {
     "name": "stdout",
     "output_type": "stream",
     "text": [
      "Fitting 10 folds for each of 9 candidates, totalling 90 fits\n",
      "[CV] END ...................max_depth=6, min_samples_split=2; total time=   0.0s\n",
      "[CV] END ...................max_depth=6, min_samples_split=2; total time=   0.0s\n",
      "[CV] END ...................max_depth=6, min_samples_split=2; total time=   0.0s\n",
      "[CV] END ...................max_depth=6, min_samples_split=2; total time=   0.0s\n",
      "[CV] END ...................max_depth=6, min_samples_split=2; total time=   0.0s\n",
      "[CV] END ...................max_depth=6, min_samples_split=2; total time=   0.0s\n",
      "[CV] END ...................max_depth=6, min_samples_split=2; total time=   0.0s\n",
      "[CV] END ...................max_depth=6, min_samples_split=2; total time=   0.0s\n",
      "[CV] END ...................max_depth=6, min_samples_split=2; total time=   0.0s\n",
      "[CV] END ...................max_depth=6, min_samples_split=2; total time=   0.0s\n",
      "[CV] END ...................max_depth=6, min_samples_split=3; total time=   0.0s\n",
      "[CV] END ...................max_depth=6, min_samples_split=3; total time=   0.0s\n",
      "[CV] END ...................max_depth=6, min_samples_split=3; total time=   0.0s\n",
      "[CV] END ...................max_depth=6, min_samples_split=3; total time=   0.0s\n",
      "[CV] END ...................max_depth=6, min_samples_split=3; total time=   0.0s\n",
      "[CV] END ...................max_depth=6, min_samples_split=3; total time=   0.0s\n",
      "[CV] END ...................max_depth=6, min_samples_split=3; total time=   0.0s\n",
      "[CV] END ...................max_depth=6, min_samples_split=3; total time=   0.0s\n",
      "[CV] END ...................max_depth=6, min_samples_split=3; total time=   0.0s\n",
      "[CV] END ...................max_depth=6, min_samples_split=3; total time=   0.0s\n",
      "[CV] END ...................max_depth=6, min_samples_split=4; total time=   0.0s\n",
      "[CV] END ...................max_depth=6, min_samples_split=4; total time=   0.0s\n",
      "[CV] END ...................max_depth=6, min_samples_split=4; total time=   0.0s\n",
      "[CV] END ...................max_depth=6, min_samples_split=4; total time=   0.0s\n",
      "[CV] END ...................max_depth=6, min_samples_split=4; total time=   0.0s\n",
      "[CV] END ...................max_depth=6, min_samples_split=4; total time=   0.0s\n",
      "[CV] END ...................max_depth=6, min_samples_split=4; total time=   0.0s\n",
      "[CV] END ...................max_depth=6, min_samples_split=4; total time=   0.0s\n",
      "[CV] END ...................max_depth=6, min_samples_split=4; total time=   0.0s\n",
      "[CV] END ...................max_depth=6, min_samples_split=4; total time=   0.0s\n",
      "[CV] END ..................max_depth=16, min_samples_split=2; total time=   0.0s\n",
      "[CV] END ..................max_depth=16, min_samples_split=2; total time=   0.0s\n",
      "[CV] END ..................max_depth=16, min_samples_split=2; total time=   0.0s\n",
      "[CV] END ..................max_depth=16, min_samples_split=2; total time=   0.0s\n",
      "[CV] END ..................max_depth=16, min_samples_split=2; total time=   0.0s\n",
      "[CV] END ..................max_depth=16, min_samples_split=2; total time=   0.0s\n",
      "[CV] END ..................max_depth=16, min_samples_split=2; total time=   0.0s\n",
      "[CV] END ..................max_depth=16, min_samples_split=2; total time=   0.0s\n",
      "[CV] END ..................max_depth=16, min_samples_split=2; total time=   0.0s\n",
      "[CV] END ..................max_depth=16, min_samples_split=2; total time=   0.0s\n",
      "[CV] END ..................max_depth=16, min_samples_split=3; total time=   0.0s\n",
      "[CV] END ..................max_depth=16, min_samples_split=3; total time=   0.0s\n",
      "[CV] END ..................max_depth=16, min_samples_split=3; total time=   0.0s\n",
      "[CV] END ..................max_depth=16, min_samples_split=3; total time=   0.0s\n",
      "[CV] END ..................max_depth=16, min_samples_split=3; total time=   0.0s\n",
      "[CV] END ..................max_depth=16, min_samples_split=3; total time=   0.0s\n",
      "[CV] END ..................max_depth=16, min_samples_split=3; total time=   0.0s\n",
      "[CV] END ..................max_depth=16, min_samples_split=3; total time=   0.0s\n",
      "[CV] END ..................max_depth=16, min_samples_split=3; total time=   0.0s\n",
      "[CV] END ..................max_depth=16, min_samples_split=3; total time=   0.0s\n",
      "[CV] END ..................max_depth=16, min_samples_split=4; total time=   0.0s\n",
      "[CV] END ..................max_depth=16, min_samples_split=4; total time=   0.0s\n",
      "[CV] END ..................max_depth=16, min_samples_split=4; total time=   0.0s\n",
      "[CV] END ..................max_depth=16, min_samples_split=4; total time=   0.0s\n",
      "[CV] END ..................max_depth=16, min_samples_split=4; total time=   0.0s\n",
      "[CV] END ..................max_depth=16, min_samples_split=4; total time=   0.0s\n",
      "[CV] END ..................max_depth=16, min_samples_split=4; total time=   0.0s\n",
      "[CV] END ..................max_depth=16, min_samples_split=4; total time=   0.0s\n",
      "[CV] END ..................max_depth=16, min_samples_split=4; total time=   0.0s\n",
      "[CV] END ..................max_depth=16, min_samples_split=4; total time=   0.0s\n",
      "[CV] END ................max_depth=None, min_samples_split=2; total time=   0.0s\n",
      "[CV] END ................max_depth=None, min_samples_split=2; total time=   0.0s\n",
      "[CV] END ................max_depth=None, min_samples_split=2; total time=   0.0s\n",
      "[CV] END ................max_depth=None, min_samples_split=2; total time=   0.0s\n",
      "[CV] END ................max_depth=None, min_samples_split=2; total time=   0.0s\n",
      "[CV] END ................max_depth=None, min_samples_split=2; total time=   0.0s\n",
      "[CV] END ................max_depth=None, min_samples_split=2; total time=   0.0s\n",
      "[CV] END ................max_depth=None, min_samples_split=2; total time=   0.0s\n",
      "[CV] END ................max_depth=None, min_samples_split=2; total time=   0.0s\n",
      "[CV] END ................max_depth=None, min_samples_split=2; total time=   0.0s\n",
      "[CV] END ................max_depth=None, min_samples_split=3; total time=   0.0s\n",
      "[CV] END ................max_depth=None, min_samples_split=3; total time=   0.0s\n",
      "[CV] END ................max_depth=None, min_samples_split=3; total time=   0.0s\n",
      "[CV] END ................max_depth=None, min_samples_split=3; total time=   0.0s\n",
      "[CV] END ................max_depth=None, min_samples_split=3; total time=   0.0s\n",
      "[CV] END ................max_depth=None, min_samples_split=3; total time=   0.0s\n",
      "[CV] END ................max_depth=None, min_samples_split=3; total time=   0.0s\n",
      "[CV] END ................max_depth=None, min_samples_split=3; total time=   0.0s\n",
      "[CV] END ................max_depth=None, min_samples_split=3; total time=   0.0s\n",
      "[CV] END ................max_depth=None, min_samples_split=3; total time=   0.0s\n",
      "[CV] END ................max_depth=None, min_samples_split=4; total time=   0.0s\n",
      "[CV] END ................max_depth=None, min_samples_split=4; total time=   0.0s\n",
      "[CV] END ................max_depth=None, min_samples_split=4; total time=   0.0s\n",
      "[CV] END ................max_depth=None, min_samples_split=4; total time=   0.0s\n",
      "[CV] END ................max_depth=None, min_samples_split=4; total time=   0.0s\n",
      "[CV] END ................max_depth=None, min_samples_split=4; total time=   0.0s\n",
      "[CV] END ................max_depth=None, min_samples_split=4; total time=   0.0s\n",
      "[CV] END ................max_depth=None, min_samples_split=4; total time=   0.0s\n",
      "[CV] END ................max_depth=None, min_samples_split=4; total time=   0.0s\n",
      "[CV] END ................max_depth=None, min_samples_split=4; total time=   0.0s\n"
     ]
    },
    {
     "data": {
      "text/plain": [
       "0.9274358974358975"
      ]
     },
     "execution_count": 3,
     "metadata": {},
     "output_type": "execute_result"
    }
   ],
   "source": [
    "import numpy as np\n",
    "from sklearn.model_selection import GridSearchCV\n",
    "from sklearn.tree import DecisionTreeClassifier\n",
    "\n",
    "\n",
    "clf = DecisionTreeClassifier(random_state=123)\n",
    "\n",
    "params =  {\n",
    "    'min_samples_split': [2, 3, 4],\n",
    "    'max_depth': [6, 16, None]\n",
    "}\n",
    "\n",
    "\n",
    "grid = GridSearchCV(estimator=clf,\n",
    "                    param_grid=params,\n",
    "                    cv=10,\n",
    "                    n_jobs=1,\n",
    "                    verbose=2)\n",
    "\n",
    "grid.fit(X_train, y_train)\n",
    "\n",
    "grid.best_score_"
   ]
  },
  {
   "cell_type": "code",
   "execution_count": 4,
   "id": "2c26399d-ebfc-4b06-86d9-36e49711e908",
   "metadata": {},
   "outputs": [
    {
     "data": {
      "text/plain": [
       "{'max_depth': 16, 'min_samples_split': 4}"
      ]
     },
     "execution_count": 4,
     "metadata": {},
     "output_type": "execute_result"
    }
   ],
   "source": [
    "grid.best_params_"
   ]
  },
  {
   "cell_type": "code",
   "execution_count": 5,
   "id": "763e816b-6437-45a9-812f-8b429472d75e",
   "metadata": {},
   "outputs": [
    {
     "name": "stdout",
     "output_type": "stream",
     "text": [
      "Training Accuracy: 1.00\n",
      "Test Accuracy: 0.94\n"
     ]
    }
   ],
   "source": [
    "print(f\"Training Accuracy: {grid.best_estimator_.score(X_train, y_train):0.2f}\")\n",
    "#print(f\"Validation Accuracy: {grid.best_estimator_.score(X_valid, y_valid):0.2f}\")\n",
    "print(f\"Test Accuracy: {grid.best_estimator_.score(X_test, y_test):0.2f}\")"
   ]
  }
 ],
 "metadata": {
  "kernelspec": {
   "display_name": "Python 3 (ipykernel)",
   "language": "python",
   "name": "python3"
  },
  "language_info": {
   "codemirror_mode": {
    "name": "ipython",
    "version": 3
   },
   "file_extension": ".py",
   "mimetype": "text/x-python",
   "name": "python",
   "nbconvert_exporter": "python",
   "pygments_lexer": "ipython3",
   "version": "3.9.6"
  }
 },
 "nbformat": 4,
 "nbformat_minor": 5
}
