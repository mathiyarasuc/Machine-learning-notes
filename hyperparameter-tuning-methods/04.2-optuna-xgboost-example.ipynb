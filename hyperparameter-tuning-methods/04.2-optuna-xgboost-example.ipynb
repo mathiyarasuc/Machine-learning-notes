{
 "cells": [
  {
   "cell_type": "markdown",
   "id": "39329df3-1f99-4b11-9405-5969d52368a7",
   "metadata": {},
   "source": [
    "# XGboost & Optuna Example"
   ]
  },
  {
   "cell_type": "markdown",
   "id": "c7d5f0ab-33cd-40f2-82e7-fb2747f04f89",
   "metadata": {},
   "source": [
    "Example showing how to use the Optuna library (https://optuna.readthedocs.io/en/stable/) for Bayesian hyperparameter optimization (via tree of parzen estimator)"
   ]
  },
  {
   "cell_type": "code",
   "execution_count": 1,
   "id": "7f61a90e-a119-4bd0-af21-38604c5b4eec",
   "metadata": {},
   "outputs": [
    {
     "name": "stdout",
     "output_type": "stream",
     "text": [
      "scikit-learn: 1.0\n",
      "optuna      : 2.10.0\n",
      "xgboost     : 1.5.0\n",
      "\n"
     ]
    }
   ],
   "source": [
    "%load_ext watermark\n",
    "%watermark -p scikit-learn,optuna,xgboost"
   ]
  },
  {
   "cell_type": "markdown",
   "id": "1f0489c2-dd9c-4e71-a78c-e01201762b37",
   "metadata": {},
   "source": [
    "## Dataset"
   ]
  },
  {
   "cell_type": "code",
   "execution_count": 2,
   "id": "271b17ff-5ea4-4161-8b7f-20ba8131d666",
   "metadata": {},
   "outputs": [
    {
     "name": "stdout",
     "output_type": "stream",
     "text": [
      "Train/Valid/Test sizes: 398 80 171\n"
     ]
    }
   ],
   "source": [
    "from sklearn import model_selection\n",
    "from sklearn.model_selection import train_test_split\n",
    "from sklearn import datasets\n",
    "\n",
    "\n",
    "data = datasets.load_breast_cancer()\n",
    "X, y = data.data, data.target\n",
    "\n",
    "X_train, X_test, y_train, y_test = \\\n",
    "    train_test_split(X, y, test_size=0.3, random_state=1, stratify=y)\n",
    "\n",
    "X_train_sub, X_valid, y_train_sub, y_valid = \\\n",
    "    train_test_split(X_train, y_train, test_size=0.2, random_state=1, stratify=y_train)\n",
    "\n",
    "print('Train/Valid/Test sizes:', y_train.shape[0], y_valid.shape[0], y_test.shape[0])"
   ]
  },
  {
   "cell_type": "markdown",
   "id": "0affc454-9f07-48e6-bcee-e6253d968247",
   "metadata": {
    "tags": []
   },
   "source": [
    "## Optuna"
   ]
  },
  {
   "cell_type": "code",
   "execution_count": 6,
   "id": "9a6bb270-d2a1-4179-a770-39bad5a8332c",
   "metadata": {},
   "outputs": [],
   "source": [
    "from xgboost import XGBClassifier\n",
    "from sklearn.model_selection import StratifiedKFold\n",
    "import numpy as np\n",
    "import optuna\n",
    "\n",
    "\n",
    "def optimization_objective(trial, X_train, y_train, cv=5):\n",
    "\n",
    "    \n",
    "    params =  {\n",
    "            \"n_estimators\": trial.suggest_categorical(\"n_estimators\", [30, 50, 100, 300]),\n",
    "            \"learning_rate\": trial.suggest_categorical(\"learning_rate\", [0.01]),\n",
    "            \"lambda\": trial.suggest_loguniform(\"lambda\", 1e-8, 1.0),\n",
    "            \"alpha\": trial.suggest_loguniform(\"alpha\", 1e-8, 1.0),\n",
    "    }\n",
    "    \n",
    "\n",
    "    cv_iterator = StratifiedKFold(n_splits=cv, shuffle=True, random_state=123)\n",
    "\n",
    "    cv_scores = np.zeros(cv)\n",
    "    for idx, (train_sub_idx, valid_idx) in enumerate(cv_iterator.split(X_train, y_train)):\n",
    "        \n",
    "        X_train_sub, X_valid = X_train[train_sub_idx], X_train[valid_idx]\n",
    "        y_train_sub, y_valid = y_train[train_sub_idx], y_train[valid_idx]\n",
    "        \n",
    "\n",
    "        model = XGBClassifier(**params, random_state=123, use_label_encoder=False)\n",
    "        \n",
    "        model.fit(\n",
    "            X_train_sub,\n",
    "            y_train_sub,\n",
    "            verbose=False,\n",
    "            eval_set=[(X_valid, y_valid)],\n",
    "            eval_metric=\"auc\",\n",
    "            early_stopping_rounds=100,\n",
    "        )\n",
    "        \n",
    "        preds = model.score(X_valid, y_valid)\n",
    "        \n",
    "        cv_scores[idx] = preds\n",
    "\n",
    "    return np.mean(cv_scores)"
   ]
  },
  {
   "cell_type": "code",
   "execution_count": 7,
   "id": "a51829c6-234f-401f-84ed-a005f71d0150",
   "metadata": {},
   "outputs": [
    {
     "name": "stderr",
     "output_type": "stream",
     "text": [
      "\u001b[32m[I 2021-10-29 15:13:35,852]\u001b[0m A new study created in memory with name: XGBoost Classifier\u001b[0m\n",
      "\u001b[32m[I 2021-10-29 15:13:36,083]\u001b[0m Trial 0 finished with value: 0.9421835443037974 and parameters: {'n_estimators': 50, 'learning_rate': 0.01, 'lambda': 9.12943426076228e-08, 'alpha': 0.0016724501964558564}. Best is trial 0 with value: 0.9421835443037974.\u001b[0m\n",
      "\u001b[32m[I 2021-10-29 15:13:36,268]\u001b[0m Trial 1 finished with value: 0.9396518987341771 and parameters: {'n_estimators': 50, 'learning_rate': 0.01, 'lambda': 1.5845448248138875e-08, 'alpha': 4.798603930208439e-05}. Best is trial 0 with value: 0.9421835443037974.\u001b[0m\n",
      "\u001b[32m[I 2021-10-29 15:13:36,635]\u001b[0m Trial 2 finished with value: 0.9447151898734176 and parameters: {'n_estimators': 100, 'learning_rate': 0.01, 'lambda': 5.826200068630577e-05, 'alpha': 0.05751334422453705}. Best is trial 2 with value: 0.9447151898734176.\u001b[0m\n",
      "\u001b[32m[I 2021-10-29 15:13:37,378]\u001b[0m Trial 3 finished with value: 0.9547468354430381 and parameters: {'n_estimators': 300, 'learning_rate': 0.01, 'lambda': 0.26937942720512253, 'alpha': 0.0034157983848875965}. Best is trial 3 with value: 0.9547468354430381.\u001b[0m\n",
      "\u001b[32m[I 2021-10-29 15:13:38,298]\u001b[0m Trial 4 finished with value: 0.9572784810126583 and parameters: {'n_estimators': 300, 'learning_rate': 0.01, 'lambda': 1.5481157014348243e-05, 'alpha': 1.789996921003619e-06}. Best is trial 4 with value: 0.9572784810126583.\u001b[0m\n",
      "\u001b[32m[I 2021-10-29 15:13:39,070]\u001b[0m Trial 5 finished with value: 0.9547784810126583 and parameters: {'n_estimators': 300, 'learning_rate': 0.01, 'lambda': 1.398796586106091e-06, 'alpha': 0.10405773456023377}. Best is trial 4 with value: 0.9572784810126583.\u001b[0m\n",
      "\u001b[32m[I 2021-10-29 15:13:39,734]\u001b[0m Trial 6 finished with value: 0.9598101265822784 and parameters: {'n_estimators': 300, 'learning_rate': 0.01, 'lambda': 1.3631382207037184e-06, 'alpha': 0.12196265197339377}. Best is trial 6 with value: 0.9598101265822784.\u001b[0m\n",
      "\u001b[32m[I 2021-10-29 15:13:39,921]\u001b[0m Trial 7 finished with value: 0.9421835443037974 and parameters: {'n_estimators': 50, 'learning_rate': 0.01, 'lambda': 0.20964166517034216, 'alpha': 0.002276611927638413}. Best is trial 6 with value: 0.9598101265822784.\u001b[0m\n",
      "\u001b[32m[I 2021-10-29 15:13:40,312]\u001b[0m Trial 8 finished with value: 0.9472151898734177 and parameters: {'n_estimators': 100, 'learning_rate': 0.01, 'lambda': 6.984400809954639e-06, 'alpha': 6.900859757950081e-08}. Best is trial 6 with value: 0.9598101265822784.\u001b[0m\n",
      "\u001b[32m[I 2021-10-29 15:13:40,542]\u001b[0m Trial 9 finished with value: 0.9396518987341771 and parameters: {'n_estimators': 50, 'learning_rate': 0.01, 'lambda': 0.17447739107803126, 'alpha': 0.007432038622026489}. Best is trial 6 with value: 0.9598101265822784.\u001b[0m\n",
      "\u001b[32m[I 2021-10-29 15:13:40,695]\u001b[0m Trial 10 finished with value: 0.9421835443037974 and parameters: {'n_estimators': 30, 'learning_rate': 0.01, 'lambda': 0.001646377975653945, 'alpha': 4.8417153098687035e-05}. Best is trial 6 with value: 0.9598101265822784.\u001b[0m\n",
      "\u001b[32m[I 2021-10-29 15:13:41,596]\u001b[0m Trial 11 finished with value: 0.9472468354430379 and parameters: {'n_estimators': 300, 'learning_rate': 0.01, 'lambda': 8.35674916838421e-07, 'alpha': 5.65840950222693e-07}. Best is trial 6 with value: 0.9598101265822784.\u001b[0m\n",
      "\u001b[32m[I 2021-10-29 15:13:42,648]\u001b[0m Trial 12 finished with value: 0.9573101265822783 and parameters: {'n_estimators': 300, 'learning_rate': 0.01, 'lambda': 0.000845191529125593, 'alpha': 1.8436356236115014e-06}. Best is trial 6 with value: 0.9598101265822784.\u001b[0m\n",
      "\u001b[32m[I 2021-10-29 15:13:43,573]\u001b[0m Trial 13 finished with value: 0.9572784810126583 and parameters: {'n_estimators': 300, 'learning_rate': 0.01, 'lambda': 0.0019922339539894785, 'alpha': 1.2467194725823511e-08}. Best is trial 6 with value: 0.9598101265822784.\u001b[0m\n",
      "\u001b[32m[I 2021-10-29 15:13:43,711]\u001b[0m Trial 14 finished with value: 0.9371202531645568 and parameters: {'n_estimators': 30, 'learning_rate': 0.01, 'lambda': 0.0010990683896884457, 'alpha': 0.5633268274819905}. Best is trial 6 with value: 0.9598101265822784.\u001b[0m\n",
      "\u001b[32m[I 2021-10-29 15:13:44,578]\u001b[0m Trial 15 finished with value: 0.9547784810126583 and parameters: {'n_estimators': 300, 'learning_rate': 0.01, 'lambda': 0.00036651330207498054, 'alpha': 2.9858725838621206e-06}. Best is trial 6 with value: 0.9598101265822784.\u001b[0m\n",
      "\u001b[32m[I 2021-10-29 15:13:45,259]\u001b[0m Trial 16 finished with value: 0.9572784810126583 and parameters: {'n_estimators': 300, 'learning_rate': 0.01, 'lambda': 0.01007863504345717, 'alpha': 0.00023827914611586213}. Best is trial 6 with value: 0.9598101265822784.\u001b[0m\n",
      "\u001b[32m[I 2021-10-29 15:13:45,861]\u001b[0m Trial 17 finished with value: 0.9598101265822784 and parameters: {'n_estimators': 300, 'learning_rate': 0.01, 'lambda': 0.014457005876930502, 'alpha': 1.322690723337227e-05}. Best is trial 6 with value: 0.9598101265822784.\u001b[0m\n",
      "\u001b[32m[I 2021-10-29 15:13:46,186]\u001b[0m Trial 18 finished with value: 0.9447151898734176 and parameters: {'n_estimators': 100, 'learning_rate': 0.01, 'lambda': 0.02742378654491611, 'alpha': 0.00026641643557641354}. Best is trial 6 with value: 0.9598101265822784.\u001b[0m\n",
      "\u001b[32m[I 2021-10-29 15:13:46,301]\u001b[0m Trial 19 finished with value: 0.9421835443037974 and parameters: {'n_estimators': 30, 'learning_rate': 0.01, 'lambda': 7.781231357627568e-07, 'alpha': 1.650160266730168e-05}. Best is trial 6 with value: 0.9598101265822784.\u001b[0m\n",
      "\u001b[32m[I 2021-10-29 15:13:47,033]\u001b[0m Trial 20 finished with value: 0.9597784810126582 and parameters: {'n_estimators': 300, 'learning_rate': 0.01, 'lambda': 7.753856366887454e-05, 'alpha': 0.8121979164847515}. Best is trial 6 with value: 0.9598101265822784.\u001b[0m\n",
      "\u001b[32m[I 2021-10-29 15:13:47,993]\u001b[0m Trial 21 finished with value: 0.9623101265822784 and parameters: {'n_estimators': 300, 'learning_rate': 0.01, 'lambda': 0.00010123319508156144, 'alpha': 0.6910907278209559}. Best is trial 21 with value: 0.9623101265822784.\u001b[0m\n",
      "\u001b[32m[I 2021-10-29 15:13:49,457]\u001b[0m Trial 22 finished with value: 0.952246835443038 and parameters: {'n_estimators': 300, 'learning_rate': 0.01, 'lambda': 0.022148736137074018, 'alpha': 0.052808545058697885}. Best is trial 21 with value: 0.9623101265822784.\u001b[0m\n",
      "\u001b[32m[I 2021-10-29 15:13:50,402]\u001b[0m Trial 23 finished with value: 0.9597784810126582 and parameters: {'n_estimators': 300, 'learning_rate': 0.01, 'lambda': 6.638682113340334e-06, 'alpha': 0.2304638209764241}. Best is trial 21 with value: 0.9623101265822784.\u001b[0m\n",
      "\u001b[32m[I 2021-10-29 15:13:51,144]\u001b[0m Trial 24 finished with value: 0.9572784810126583 and parameters: {'n_estimators': 300, 'learning_rate': 0.01, 'lambda': 9.172058982821566e-08, 'alpha': 0.019361624133252965}. Best is trial 21 with value: 0.9623101265822784.\u001b[0m\n",
      "\u001b[32m[I 2021-10-29 15:13:52,162]\u001b[0m Trial 25 finished with value: 0.952246835443038 and parameters: {'n_estimators': 300, 'learning_rate': 0.01, 'lambda': 0.007480028884560146, 'alpha': 0.00048269577519587987}. Best is trial 21 with value: 0.9623101265822784.\u001b[0m\n",
      "\u001b[32m[I 2021-10-29 15:13:52,913]\u001b[0m Trial 26 finished with value: 0.9598101265822784 and parameters: {'n_estimators': 300, 'learning_rate': 0.01, 'lambda': 0.00017545377411974558, 'alpha': 8.872000385531524e-06}. Best is trial 21 with value: 0.9623101265822784.\u001b[0m\n",
      "\u001b[32m[I 2021-10-29 15:13:53,025]\u001b[0m Trial 27 finished with value: 0.9396518987341771 and parameters: {'n_estimators': 30, 'learning_rate': 0.01, 'lambda': 0.00029064471330913946, 'alpha': 2.405432434905806e-07}. Best is trial 21 with value: 0.9623101265822784.\u001b[0m\n",
      "\u001b[32m[I 2021-10-29 15:13:53,309]\u001b[0m Trial 28 finished with value: 0.9447151898734176 and parameters: {'n_estimators': 100, 'learning_rate': 0.01, 'lambda': 0.829052565833679, 'alpha': 1.3612253310530508e-05}. Best is trial 21 with value: 0.9623101265822784.\u001b[0m\n",
      "\u001b[32m[I 2021-10-29 15:13:53,494]\u001b[0m Trial 29 finished with value: 0.9396518987341771 and parameters: {'n_estimators': 50, 'learning_rate': 0.01, 'lambda': 2.961837507571939e-05, 'alpha': 1.5369864700294276e-05}. Best is trial 21 with value: 0.9623101265822784.\u001b[0m\n",
      "\u001b[32m[I 2021-10-29 15:13:54,124]\u001b[0m Trial 30 finished with value: 0.9572784810126583 and parameters: {'n_estimators': 300, 'learning_rate': 0.01, 'lambda': 2.0910075408531302e-07, 'alpha': 0.01993328129643926}. Best is trial 21 with value: 0.9623101265822784.\u001b[0m\n",
      "\u001b[32m[I 2021-10-29 15:13:54,827]\u001b[0m Trial 31 finished with value: 0.9598101265822784 and parameters: {'n_estimators': 300, 'learning_rate': 0.01, 'lambda': 0.00017749950082151248, 'alpha': 6.9926033034505084e-06}. Best is trial 21 with value: 0.9623101265822784.\u001b[0m\n",
      "\u001b[32m[I 2021-10-29 15:13:55,450]\u001b[0m Trial 32 finished with value: 0.9598101265822784 and parameters: {'n_estimators': 300, 'learning_rate': 0.01, 'lambda': 0.00023966693526746003, 'alpha': 0.0007332973895345513}. Best is trial 21 with value: 0.9623101265822784.\u001b[0m\n",
      "\u001b[32m[I 2021-10-29 15:13:56,027]\u001b[0m Trial 33 finished with value: 0.9597784810126582 and parameters: {'n_estimators': 300, 'learning_rate': 0.01, 'lambda': 1.2448348382764996e-08, 'alpha': 0.33812528792618957}. Best is trial 21 with value: 0.9623101265822784.\u001b[0m\n",
      "\u001b[32m[I 2021-10-29 15:13:56,906]\u001b[0m Trial 34 finished with value: 0.9598101265822784 and parameters: {'n_estimators': 300, 'learning_rate': 0.01, 'lambda': 3.2568157821040412e-06, 'alpha': 7.099249308817465e-05}. Best is trial 21 with value: 0.9623101265822784.\u001b[0m\n",
      "\u001b[32m[I 2021-10-29 15:13:57,124]\u001b[0m Trial 35 finished with value: 0.9396518987341771 and parameters: {'n_estimators': 50, 'learning_rate': 0.01, 'lambda': 5.370595673405623e-05, 'alpha': 0.000533436293921588}. Best is trial 21 with value: 0.9623101265822784.\u001b[0m\n",
      "\u001b[32m[I 2021-10-29 15:13:58,104]\u001b[0m Trial 36 finished with value: 0.9522784810126582 and parameters: {'n_estimators': 300, 'learning_rate': 0.01, 'lambda': 0.0056524893173695405, 'alpha': 0.07753762190356565}. Best is trial 21 with value: 0.9623101265822784.\u001b[0m\n",
      "\u001b[32m[I 2021-10-29 15:13:58,661]\u001b[0m Trial 37 finished with value: 0.949746835443038 and parameters: {'n_estimators': 100, 'learning_rate': 0.01, 'lambda': 2.9493714842449996e-06, 'alpha': 7.792160639265916e-05}. Best is trial 21 with value: 0.9623101265822784.\u001b[0m\n",
      "\u001b[32m[I 2021-10-29 15:13:59,666]\u001b[0m Trial 38 finished with value: 0.9623101265822784 and parameters: {'n_estimators': 300, 'learning_rate': 0.01, 'lambda': 2.5894489919157726e-05, 'alpha': 0.0001340064151706214}. Best is trial 21 with value: 0.9623101265822784.\u001b[0m\n",
      "\u001b[32m[I 2021-10-29 15:14:00,340]\u001b[0m Trial 39 finished with value: 0.9572784810126583 and parameters: {'n_estimators': 300, 'learning_rate': 0.01, 'lambda': 1.263066951356205e-05, 'alpha': 3.7042055593301834e-07}. Best is trial 21 with value: 0.9623101265822784.\u001b[0m\n",
      "\u001b[32m[I 2021-10-29 15:14:01,041]\u001b[0m Trial 40 finished with value: 0.9547784810126583 and parameters: {'n_estimators': 300, 'learning_rate': 0.01, 'lambda': 2.7636846122000956e-05, 'alpha': 0.0012627409241405248}. Best is trial 21 with value: 0.9623101265822784.\u001b[0m\n",
      "\u001b[32m[I 2021-10-29 15:14:01,672]\u001b[0m Trial 41 finished with value: 0.9572784810126583 and parameters: {'n_estimators': 300, 'learning_rate': 0.01, 'lambda': 3.3699525520428812e-06, 'alpha': 0.00014091204189783222}. Best is trial 21 with value: 0.9623101265822784.\u001b[0m\n",
      "\u001b[32m[I 2021-10-29 15:14:02,265]\u001b[0m Trial 42 finished with value: 0.9573101265822783 and parameters: {'n_estimators': 300, 'learning_rate': 0.01, 'lambda': 2.0275336550744473e-06, 'alpha': 0.005179696022300248}. Best is trial 21 with value: 0.9623101265822784.\u001b[0m\n",
      "\u001b[32m[I 2021-10-29 15:14:02,934]\u001b[0m Trial 43 finished with value: 0.9547784810126583 and parameters: {'n_estimators': 300, 'learning_rate': 0.01, 'lambda': 8.373287280639467e-05, 'alpha': 3.601759137739027e-05}. Best is trial 21 with value: 0.9623101265822784.\u001b[0m\n",
      "\u001b[32m[I 2021-10-29 15:14:03,673]\u001b[0m Trial 44 finished with value: 0.9547784810126583 and parameters: {'n_estimators': 300, 'learning_rate': 0.01, 'lambda': 0.00047292390576541903, 'alpha': 3.862136589322753e-06}. Best is trial 21 with value: 0.9623101265822784.\u001b[0m\n",
      "\u001b[32m[I 2021-10-29 15:14:03,873]\u001b[0m Trial 45 finished with value: 0.9396518987341771 and parameters: {'n_estimators': 50, 'learning_rate': 0.01, 'lambda': 0.00014890135572529859, 'alpha': 9.91674983605929e-07}. Best is trial 21 with value: 0.9623101265822784.\u001b[0m\n",
      "\u001b[32m[I 2021-10-29 15:14:04,568]\u001b[0m Trial 46 finished with value: 0.9547468354430381 and parameters: {'n_estimators': 300, 'learning_rate': 0.01, 'lambda': 0.052688756103824355, 'alpha': 5.838608765134627e-06}. Best is trial 21 with value: 0.9623101265822784.\u001b[0m\n",
      "\u001b[32m[I 2021-10-29 15:14:04,686]\u001b[0m Trial 47 finished with value: 0.9421835443037974 and parameters: {'n_estimators': 30, 'learning_rate': 0.01, 'lambda': 0.0019465143608233288, 'alpha': 3.474474589683971e-05}. Best is trial 21 with value: 0.9623101265822784.\u001b[0m\n",
      "\u001b[32m[I 2021-10-29 15:14:05,349]\u001b[0m Trial 48 finished with value: 0.9573101265822783 and parameters: {'n_estimators': 300, 'learning_rate': 0.01, 'lambda': 3.6636898666983995e-05, 'alpha': 0.0007217285932438751}. Best is trial 21 with value: 0.9623101265822784.\u001b[0m\n",
      "\u001b[32m[I 2021-10-29 15:14:05,784]\u001b[0m Trial 49 finished with value: 0.9446835443037974 and parameters: {'n_estimators': 100, 'learning_rate': 0.01, 'lambda': 0.00022058961542548646, 'alpha': 6.934951073738929e-06}. Best is trial 21 with value: 0.9623101265822784.\u001b[0m\n"
     ]
    }
   ],
   "source": [
    "study = optuna.create_study(direction=\"maximize\", study_name=\"XGBoost Classifier\")\n",
    "\n",
    "def func(trial):\n",
    "    return optimization_objective(trial, X_train, y_train)\n",
    "\n",
    "study.optimize(func, n_trials=50);"
   ]
  },
  {
   "cell_type": "code",
   "execution_count": 8,
   "id": "2c26399d-ebfc-4b06-86d9-36e49711e908",
   "metadata": {},
   "outputs": [
    {
     "name": "stdout",
     "output_type": "stream",
     "text": [
      "Best CV accuracy: 0.96231\n",
      "Best params:\n",
      "\tn_estimators: 300\n",
      "\tlearning_rate: 0.01\n",
      "\tlambda: 0.00010123319508156144\n",
      "\talpha: 0.6910907278209559\n"
     ]
    }
   ],
   "source": [
    "print(f\"Best CV accuracy: {study.best_value:.5f}\")\n",
    "print(\"Best params:\")\n",
    "\n",
    "for key, value in study.best_params.items():\n",
    "    print(f\"\\t{key}: {value}\")"
   ]
  },
  {
   "cell_type": "code",
   "execution_count": 11,
   "id": "83e99f85-9ce2-494e-99ea-20ab49dc0b15",
   "metadata": {},
   "outputs": [
    {
     "data": {
      "text/plain": [
       "XGBClassifier(alpha=0.6910907278209559, base_score=0.5, booster='gbtree',\n",
       "              colsample_bylevel=1, colsample_bynode=1, colsample_bytree=1,\n",
       "              enable_categorical=False, gamma=0, gpu_id=-1,\n",
       "              importance_type=None, interaction_constraints='',\n",
       "              lambda=0.00010123319508156144, learning_rate=0.01,\n",
       "              max_delta_step=0, max_depth=6, min_child_weight=1, missing=nan,\n",
       "              monotone_constraints='()', n_estimators=300, n_jobs=8,\n",
       "              num_parallel_tree=1, predictor='auto', random_state=123,\n",
       "              reg_alpha=0.691090703, reg_lambda=0.000101233192,\n",
       "              scale_pos_weight=1, subsample=1, tree_method='exact',\n",
       "              use_label_encoder=False, validate_parameters=1, ...)"
      ]
     },
     "execution_count": 11,
     "metadata": {},
     "output_type": "execute_result"
    }
   ],
   "source": [
    "model = XGBClassifier(**study.best_params, random_state=123, use_label_encoder=False)\n",
    "model.fit(\n",
    "    X_train,\n",
    "    y_train,\n",
    "    verbose=False,\n",
    "    eval_set=[(X_valid, y_valid)],\n",
    "    eval_metric=\"auc\",\n",
    "    early_stopping_rounds=100,\n",
    ")"
   ]
  },
  {
   "cell_type": "code",
   "execution_count": 12,
   "id": "fbb610d8-4846-4e9f-a589-adacd0042603",
   "metadata": {},
   "outputs": [
    {
     "name": "stdout",
     "output_type": "stream",
     "text": [
      "Training Accuracy: 0.99\n",
      "Test Accuracy: 0.95\n"
     ]
    }
   ],
   "source": [
    "print(f\"Training Accuracy: {model.score(X_train, y_train):0.2f}\")\n",
    "print(f\"Test Accuracy: {model.score(X_test, y_test):0.2f}\")"
   ]
  }
 ],
 "metadata": {
  "kernelspec": {
   "display_name": "Python 3 (ipykernel)",
   "language": "python",
   "name": "python3"
  },
  "language_info": {
   "codemirror_mode": {
    "name": "ipython",
    "version": 3
   },
   "file_extension": ".py",
   "mimetype": "text/x-python",
   "name": "python",
   "nbconvert_exporter": "python",
   "pygments_lexer": "ipython3",
   "version": "3.9.6"
  }
 },
 "nbformat": 4,
 "nbformat_minor": 5
}
