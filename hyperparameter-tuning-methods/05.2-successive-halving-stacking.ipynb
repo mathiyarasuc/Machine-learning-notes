{
 "cells": [
  {
   "cell_type": "markdown",
   "id": "39329df3-1f99-4b11-9405-5969d52368a7",
   "metadata": {},
   "source": [
    "# Stacking & Successive Halving Random + Search Example"
   ]
  },
  {
   "cell_type": "code",
   "execution_count": 1,
   "id": "7f61a90e-a119-4bd0-af21-38604c5b4eec",
   "metadata": {},
   "outputs": [
    {
     "name": "stdout",
     "output_type": "stream",
     "text": [
      "scikit-learn: 1.0\n",
      "mlxtend     : 0.19.0\n",
      "\n"
     ]
    }
   ],
   "source": [
    "%load_ext watermark\n",
    "%watermark -p scikit-learn,mlxtend"
   ]
  },
  {
   "cell_type": "markdown",
   "id": "1f0489c2-dd9c-4e71-a78c-e01201762b37",
   "metadata": {},
   "source": [
    "## Dataset"
   ]
  },
  {
   "cell_type": "code",
   "execution_count": 2,
   "id": "271b17ff-5ea4-4161-8b7f-20ba8131d666",
   "metadata": {},
   "outputs": [
    {
     "name": "stdout",
     "output_type": "stream",
     "text": [
      "Train/Valid/Test sizes: 398 80 171\n"
     ]
    }
   ],
   "source": [
    "from sklearn import model_selection\n",
    "from sklearn.model_selection import train_test_split\n",
    "from sklearn import datasets\n",
    "\n",
    "\n",
    "data = datasets.load_breast_cancer()\n",
    "X, y = data.data, data.target\n",
    "\n",
    "X_train, X_test, y_train, y_test = \\\n",
    "    train_test_split(X, y, test_size=0.3, random_state=1, stratify=y)\n",
    "\n",
    "X_train_sub, X_valid, y_train_sub, y_valid = \\\n",
    "    train_test_split(X_train, y_train, test_size=0.2, random_state=1, stratify=y_train)\n",
    "\n",
    "print('Train/Valid/Test sizes:', y_train.shape[0], y_valid.shape[0], y_test.shape[0])"
   ]
  },
  {
   "cell_type": "markdown",
   "id": "4cc20172-b2c7-4a8a-b310-714f658d3e23",
   "metadata": {},
   "source": [
    "## Baseline"
   ]
  },
  {
   "cell_type": "code",
   "execution_count": 3,
   "id": "96f0b4c1-803a-436f-93d5-31baab55faa5",
   "metadata": {},
   "outputs": [],
   "source": [
    "from sklearn.ensemble import RandomForestClassifier\n",
    "from xgboost import XGBClassifier\n",
    "from mlxtend.classifier import StackingCVClassifier\n",
    "from sklearn.linear_model import LogisticRegression\n",
    "\n",
    "\n",
    "forest = RandomForestClassifier(n_estimators=100,\n",
    "                                random_state=123)\n",
    "\n",
    "boost = XGBClassifier(random_state=123, verbosity=0, use_label_encoder=False)\n",
    "\n",
    "metaclassifier = LogisticRegression(random_state=123)\n",
    "\n",
    "sclf = StackingCVClassifier(classifiers=[forest, boost], \n",
    "                            meta_classifier=metaclassifier, \n",
    "                            random_state=123)\n"
   ]
  },
  {
   "cell_type": "markdown",
   "id": "8acc4951-e0de-4dfb-98d4-fd0a7e14a896",
   "metadata": {},
   "source": [
    "Random forest:"
   ]
  },
  {
   "cell_type": "code",
   "execution_count": 4,
   "id": "30d17dbf-2a07-4482-a942-5e6d936f2bd0",
   "metadata": {},
   "outputs": [
    {
     "name": "stdout",
     "output_type": "stream",
     "text": [
      "Training Accuracy: 1.00\n",
      "Validation Accuracy: 0.95\n",
      "Test Accuracy: 0.96\n"
     ]
    }
   ],
   "source": [
    "forest.fit(X_train_sub, y_train_sub)\n",
    "print(f\"Training Accuracy: {forest.score(X_train_sub, y_train_sub):0.2f}\")\n",
    "print(f\"Validation Accuracy: {forest.score(X_valid, y_valid):0.2f}\")\n",
    "print(f\"Test Accuracy: {forest.score(X_test, y_test):0.2f}\")"
   ]
  },
  {
   "cell_type": "markdown",
   "id": "b44ea7b8-ca93-452b-8f61-b4ea067fb883",
   "metadata": {},
   "source": [
    "Gradient boosting:"
   ]
  },
  {
   "cell_type": "code",
   "execution_count": 5,
   "id": "524ec950-396c-40de-b5c1-87b8473ffcb7",
   "metadata": {},
   "outputs": [
    {
     "name": "stdout",
     "output_type": "stream",
     "text": [
      "Training Accuracy: 1.00\n",
      "Validation Accuracy: 0.97\n",
      "Test Accuracy: 0.95\n"
     ]
    }
   ],
   "source": [
    "boost.fit(X_train_sub, y_train_sub)\n",
    "print(f\"Training Accuracy: {boost.score(X_train_sub, y_train_sub):0.2f}\")\n",
    "print(f\"Validation Accuracy: {boost.score(X_valid, y_valid):0.2f}\")\n",
    "print(f\"Test Accuracy: {boost.score(X_test, y_test):0.2f}\")"
   ]
  },
  {
   "cell_type": "markdown",
   "id": "5010e087-1d01-4487-9792-01ea22877cb1",
   "metadata": {},
   "source": [
    "Stacking:"
   ]
  },
  {
   "cell_type": "code",
   "execution_count": 6,
   "id": "85ea8745-5bde-4221-b56d-391d2ebb36f5",
   "metadata": {},
   "outputs": [
    {
     "name": "stdout",
     "output_type": "stream",
     "text": [
      "Training Accuracy: 1.00\n",
      "Validation Accuracy: 0.97\n",
      "Test Accuracy: 0.95\n"
     ]
    }
   ],
   "source": [
    "sclf.fit(X_train_sub, y_train_sub)\n",
    "print(f\"Training Accuracy: {sclf.score(X_train_sub, y_train_sub):0.2f}\")\n",
    "print(f\"Validation Accuracy: {sclf.score(X_valid, y_valid):0.2f}\")\n",
    "print(f\"Test Accuracy: {sclf.score(X_test, y_test):0.2f}\")"
   ]
  },
  {
   "cell_type": "markdown",
   "id": "5a824414-2fc2-40bc-b9e8-972a80af153b",
   "metadata": {},
   "source": [
    "## Successive Halving + Random Search"
   ]
  },
  {
   "cell_type": "markdown",
   "id": "81ea4cb4-f9e6-4f5d-9a0d-4ab4167d1883",
   "metadata": {},
   "source": [
    "\n",
    "- More info: \n",
    "  - https://scikit-learn.org/stable/modules/grid_search.html#successive-halving-user-guide\n",
    "  - https://scikit-learn.org/stable/modules/generated/sklearn.model_selection.HalvingRandomSearchCV.html#sklearn.model_selection.HalvingRandomSearchCV"
   ]
  },
  {
   "cell_type": "code",
   "execution_count": 7,
   "id": "e80b4870-e6d2-4f62-91dd-2b53afaac49c",
   "metadata": {},
   "outputs": [
    {
     "data": {
      "text/plain": [
       "0.9495238095238095"
      ]
     },
     "execution_count": 7,
     "metadata": {},
     "output_type": "execute_result"
    }
   ],
   "source": [
    "import numpy as np\n",
    "import scipy.stats\n",
    "\n",
    "from sklearn.experimental import enable_halving_search_cv\n",
    "from sklearn.model_selection import HalvingRandomSearchCV\n",
    "\n",
    "from sklearn.pipeline import make_pipeline\n",
    "\n",
    "\n",
    "pipe = make_pipeline(sclf)\n",
    "\n",
    "params = {\n",
    "    'stackingcvclassifier__use_probas': [True],\n",
    "    'stackingcvclassifier__drop_proba_col': [None, 'last'],\n",
    "    'stackingcvclassifier__xgbclassifier__reg_alpha': scipy.stats.loguniform(1e-5, 1),\n",
    "    'stackingcvclassifier__xgbclassifier__max_depth': [2, 4, 6, 8],\n",
    "    'stackingcvclassifier__randomforestclassifier__n_estimators': [10, 100]\n",
    "}\n",
    "\n",
    "\n",
    "search = HalvingRandomSearchCV(\n",
    "    estimator=pipe, \n",
    "    param_distributions=params,\n",
    "    n_candidates='exhaust',\n",
    "    resource='n_samples',\n",
    "    factor=3,\n",
    "    random_state=123,\n",
    "    n_jobs=1)\n",
    "\n",
    "search.fit(X_train, y_train)\n",
    "search.best_score_"
   ]
  },
  {
   "cell_type": "code",
   "execution_count": 8,
   "id": "2c26399d-ebfc-4b06-86d9-36e49711e908",
   "metadata": {},
   "outputs": [
    {
     "data": {
      "text/plain": [
       "{'stackingcvclassifier__drop_proba_col': None,\n",
       " 'stackingcvclassifier__randomforestclassifier__n_estimators': 10,\n",
       " 'stackingcvclassifier__use_probas': True,\n",
       " 'stackingcvclassifier__xgbclassifier__max_depth': 2,\n",
       " 'stackingcvclassifier__xgbclassifier__reg_alpha': 0.0032298576306232034}"
      ]
     },
     "execution_count": 8,
     "metadata": {},
     "output_type": "execute_result"
    }
   ],
   "source": [
    "search.best_params_"
   ]
  },
  {
   "cell_type": "code",
   "execution_count": 9,
   "id": "763e816b-6437-45a9-812f-8b429472d75e",
   "metadata": {},
   "outputs": [
    {
     "name": "stdout",
     "output_type": "stream",
     "text": [
      "Training Accuracy: 1.00\n",
      "Test Accuracy: 0.96\n"
     ]
    }
   ],
   "source": [
    "print(f\"Training Accuracy: {search.best_estimator_.score(X_train, y_train):0.2f}\")\n",
    "print(f\"Test Accuracy: {search.best_estimator_.score(X_test, y_test):0.2f}\")"
   ]
  }
 ],
 "metadata": {
  "kernelspec": {
   "display_name": "Python 3 (ipykernel)",
   "language": "python",
   "name": "python3"
  },
  "language_info": {
   "codemirror_mode": {
    "name": "ipython",
    "version": 3
   },
   "file_extension": ".py",
   "mimetype": "text/x-python",
   "name": "python",
   "nbconvert_exporter": "python",
   "pygments_lexer": "ipython3",
   "version": "3.9.6"
  }
 },
 "nbformat": 4,
 "nbformat_minor": 5
}
